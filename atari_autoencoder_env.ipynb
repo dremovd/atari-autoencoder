{
 "cells": [
  {
   "cell_type": "code",
   "execution_count": 1,
   "metadata": {},
   "outputs": [],
   "source": [
    "import sys"
   ]
  },
  {
   "cell_type": "code",
   "execution_count": 2,
   "metadata": {},
   "outputs": [
    {
     "name": "stdout",
     "output_type": "stream",
     "text": [
      "Requirement already satisfied: seaborn in /home/morph/anaconda3/envs/py310/lib/python3.10/site-packages (0.12.2)\n",
      "Requirement already satisfied: joblib in /home/morph/anaconda3/envs/py310/lib/python3.10/site-packages (1.2.0)\n",
      "Requirement already satisfied: gymnasium[atari] in /home/morph/anaconda3/envs/py310/lib/python3.10/site-packages (0.28.1)\n",
      "Requirement already satisfied: matplotlib in /home/morph/anaconda3/envs/py310/lib/python3.10/site-packages (3.7.1)\n",
      "Requirement already satisfied: scikit-image in /home/morph/anaconda3/envs/py310/lib/python3.10/site-packages (0.20.0)\n",
      "Requirement already satisfied: pandas>=0.25 in /home/morph/anaconda3/envs/py310/lib/python3.10/site-packages (from seaborn) (2.0.1)\n",
      "Requirement already satisfied: numpy!=1.24.0,>=1.17 in /home/morph/anaconda3/envs/py310/lib/python3.10/site-packages (from seaborn) (1.24.3)\n",
      "Requirement already satisfied: typing-extensions>=4.3.0 in /home/morph/anaconda3/envs/py310/lib/python3.10/site-packages (from gymnasium[atari]) (4.5.0)\n",
      "Requirement already satisfied: cloudpickle>=1.2.0 in /home/morph/anaconda3/envs/py310/lib/python3.10/site-packages (from gymnasium[atari]) (2.2.1)\n",
      "Requirement already satisfied: farama-notifications>=0.0.1 in /home/morph/anaconda3/envs/py310/lib/python3.10/site-packages (from gymnasium[atari]) (0.0.4)\n",
      "Requirement already satisfied: jax-jumpy>=1.0.0 in /home/morph/anaconda3/envs/py310/lib/python3.10/site-packages (from gymnasium[atari]) (1.0.0)\n",
      "Requirement already satisfied: shimmy[atari]<1.0,>=0.1.0 in /home/morph/anaconda3/envs/py310/lib/python3.10/site-packages (from gymnasium[atari]) (0.2.1)\n",
      "Requirement already satisfied: autorom[accept-rom-license]~=0.4.2 in /home/morph/anaconda3/envs/py310/lib/python3.10/site-packages (from gymnasium[atari]) (0.4.2)\n",
      "Requirement already satisfied: pillow>=6.2.0 in /home/morph/anaconda3/envs/py310/lib/python3.10/site-packages (from matplotlib) (9.5.0)\n",
      "Requirement already satisfied: pyparsing>=2.3.1 in /home/morph/anaconda3/envs/py310/lib/python3.10/site-packages (from matplotlib) (3.0.9)\n",
      "Requirement already satisfied: python-dateutil>=2.7 in /home/morph/anaconda3/envs/py310/lib/python3.10/site-packages (from matplotlib) (2.8.2)\n",
      "Requirement already satisfied: kiwisolver>=1.0.1 in /home/morph/anaconda3/envs/py310/lib/python3.10/site-packages (from matplotlib) (1.4.4)\n",
      "Requirement already satisfied: contourpy>=1.0.1 in /home/morph/anaconda3/envs/py310/lib/python3.10/site-packages (from matplotlib) (1.0.7)\n",
      "Requirement already satisfied: packaging>=20.0 in /home/morph/anaconda3/envs/py310/lib/python3.10/site-packages (from matplotlib) (23.0)\n",
      "Requirement already satisfied: cycler>=0.10 in /home/morph/anaconda3/envs/py310/lib/python3.10/site-packages (from matplotlib) (0.11.0)\n",
      "Requirement already satisfied: fonttools>=4.22.0 in /home/morph/anaconda3/envs/py310/lib/python3.10/site-packages (from matplotlib) (4.39.4)\n",
      "Requirement already satisfied: imageio>=2.4.1 in /home/morph/anaconda3/envs/py310/lib/python3.10/site-packages (from scikit-image) (2.28.1)\n",
      "Requirement already satisfied: networkx>=2.8 in /home/morph/anaconda3/envs/py310/lib/python3.10/site-packages (from scikit-image) (3.1)\n",
      "Requirement already satisfied: tifffile>=2019.7.26 in /home/morph/anaconda3/envs/py310/lib/python3.10/site-packages (from scikit-image) (2023.4.12)\n",
      "Requirement already satisfied: lazy_loader>=0.1 in /home/morph/anaconda3/envs/py310/lib/python3.10/site-packages (from scikit-image) (0.2)\n",
      "Requirement already satisfied: scipy>=1.8 in /home/morph/anaconda3/envs/py310/lib/python3.10/site-packages (from scikit-image) (1.10.1)\n",
      "Requirement already satisfied: PyWavelets>=1.1.1 in /home/morph/anaconda3/envs/py310/lib/python3.10/site-packages (from scikit-image) (1.4.1)\n",
      "Requirement already satisfied: click in /home/morph/anaconda3/envs/py310/lib/python3.10/site-packages (from autorom[accept-rom-license]~=0.4.2->gymnasium[atari]) (8.1.3)\n",
      "Requirement already satisfied: requests in /home/morph/anaconda3/envs/py310/lib/python3.10/site-packages (from autorom[accept-rom-license]~=0.4.2->gymnasium[atari]) (2.30.0)\n",
      "Requirement already satisfied: tqdm in /home/morph/anaconda3/envs/py310/lib/python3.10/site-packages (from autorom[accept-rom-license]~=0.4.2->gymnasium[atari]) (4.65.0)\n",
      "Requirement already satisfied: AutoROM.accept-rom-license in /home/morph/anaconda3/envs/py310/lib/python3.10/site-packages (from autorom[accept-rom-license]~=0.4.2->gymnasium[atari]) (0.6.1)\n",
      "Requirement already satisfied: tzdata>=2022.1 in /home/morph/anaconda3/envs/py310/lib/python3.10/site-packages (from pandas>=0.25->seaborn) (2023.3)\n",
      "Requirement already satisfied: pytz>=2020.1 in /home/morph/anaconda3/envs/py310/lib/python3.10/site-packages (from pandas>=0.25->seaborn) (2023.3)\n",
      "Requirement already satisfied: six>=1.5 in /home/morph/anaconda3/envs/py310/lib/python3.10/site-packages (from python-dateutil>=2.7->matplotlib) (1.16.0)\n",
      "Requirement already satisfied: ale-py~=0.8.1 in /home/morph/anaconda3/envs/py310/lib/python3.10/site-packages (from shimmy[atari]<1.0,>=0.1.0->gymnasium[atari]) (0.8.1)\n",
      "Requirement already satisfied: importlib-resources in /home/morph/anaconda3/envs/py310/lib/python3.10/site-packages (from ale-py~=0.8.1->shimmy[atari]<1.0,>=0.1.0->gymnasium[atari]) (5.12.0)\n",
      "Requirement already satisfied: urllib3<3,>=1.21.1 in /home/morph/anaconda3/envs/py310/lib/python3.10/site-packages (from requests->autorom[accept-rom-license]~=0.4.2->gymnasium[atari]) (1.26.15)\n",
      "Requirement already satisfied: idna<4,>=2.5 in /home/morph/anaconda3/envs/py310/lib/python3.10/site-packages (from requests->autorom[accept-rom-license]~=0.4.2->gymnasium[atari]) (3.4)\n",
      "Requirement already satisfied: charset-normalizer<4,>=2 in /home/morph/anaconda3/envs/py310/lib/python3.10/site-packages (from requests->autorom[accept-rom-license]~=0.4.2->gymnasium[atari]) (3.1.0)\n",
      "Requirement already satisfied: certifi>=2017.4.17 in /home/morph/anaconda3/envs/py310/lib/python3.10/site-packages (from requests->autorom[accept-rom-license]~=0.4.2->gymnasium[atari]) (2023.5.7)\n"
     ]
    }
   ],
   "source": [
    "!{sys.executable} -m pip install seaborn joblib \"gymnasium[atari]\" \"gymnasium[accept-rom-license]\" matplotlib scikit-image"
   ]
  },
  {
   "cell_type": "code",
   "execution_count": 3,
   "metadata": {},
   "outputs": [],
   "source": [
    "available = [\n",
    "    'Adventure',\n",
    "    'AirRaid',\n",
    "    'Alien',\n",
    "    'Amidar',\n",
    "    'Assault',\n",
    "    'Asterix',\n",
    "    'Asteroids',\n",
    "    'Atlantis',\n",
    "    'Atlantis2',\n",
    "    'Backgammon',\n",
    "    'BankHeist',\n",
    "    'BasicMath',\n",
    "    'BattleZone',\n",
    "    'BeamRider',\n",
    "    'Berzerk',\n",
    "    'Blackjack',\n",
    "    'Bowling',\n",
    "    'Boxing',\n",
    "    'Breakout',\n",
    "    'CMakeLists',\n",
    "    'Carnival',\n",
    "    'Casino',\n",
    "    'Centipede',\n",
    "    'ChopperCommand',\n",
    "    'CrazyClimber',\n",
    "    'Crossbow',\n",
    "    'DarkChambers',\n",
    "    'Defender',\n",
    "    'DemonAttack',\n",
    "    'DonkeyKong',\n",
    "    'DoubleDunk',\n",
    "    'Earthworld',\n",
    "    'ElevatorAction',\n",
    "    'Enduro',\n",
    "    'Entombed',\n",
    "    'Et',\n",
    "    'FishingDerby',\n",
    "    'FlagCapture',\n",
    "    'Freeway',\n",
    "    'Frogger',\n",
    "    'Frostbite',\n",
    "    'Galaxian',\n",
    "    'Gopher',\n",
    "    'Gravitar',\n",
    "    'Hangman',\n",
    "    'HauntedHouse',\n",
    "    'Hero',\n",
    "    'HumanCannonball',\n",
    "    'IceHockey',\n",
    "    'JamesBond',\n",
    "    'JourneyEscape',\n",
    "    'Kaboom',\n",
    "    'Kangaroo',\n",
    "    'KeystoneKapers',\n",
    "    'Kingkong',\n",
    "    'Klax',\n",
    "    'Koolaid',\n",
    "    'Krull',\n",
    "    'KungFuMaster',\n",
    "    'LaserGates',\n",
    "    'LostLuggage',\n",
    "    'MarioBros',\n",
    "    'MiniatureGolf',\n",
    "    'MontezumaRevenge',\n",
    "    'MrDo',\n",
    "    'MsPacman',\n",
    "    'NameThisGame',\n",
    "    'Othello',\n",
    "    'Pacman',\n",
    "    'Phoenix',\n",
    "    'Pitfall',\n",
    "    'Pitfall2',\n",
    "    'Pong',\n",
    "    'Pooyan',\n",
    "    'PrivateEye',\n",
    "    'QBert',\n",
    "    'RiverRaid',\n",
    "    'RoadRunner',\n",
    "    'RoboTank',\n",
    "    'Seaquest',\n",
    "    'SirLancelot',\n",
    "    'Skiing',\n",
    "    'Solaris',\n",
    "    'SpaceInvaders',\n",
    "    'SpaceWar',\n",
    "    'StarGunner',\n",
    "    'Superman',\n",
    "    'Surround',\n",
    "    'Tennis',\n",
    "    'Tetris',\n",
    "    'TicTacToe3d',\n",
    "    'TimePilot',\n",
    "    'Trondead',\n",
    "    'Turmoil',\n",
    "    'Tutankham',\n",
    "    'UpNDown',\n",
    "    'Venture',\n",
    "    'VideoCheckers',\n",
    "    'VideoChess',\n",
    "    'VideoCube',\n",
    "    'VideoPinball',\n",
    "    'WizardOfWor',\n",
    "    'WordZapper',\n",
    "    'YarsRevenge',\n",
    "    'Zaxxon'\n",
    " ]"
   ]
  },
  {
   "cell_type": "code",
   "execution_count": 4,
   "metadata": {},
   "outputs": [
    {
     "name": "stderr",
     "output_type": "stream",
     "text": [
      "A.L.E: Arcade Learning Environment (version 0.8.1+53f58b7)\n",
      "[Powered by Stella]\n"
     ]
    }
   ],
   "source": [
    "import gymnasium as gym\n",
    "\n",
    "seed = 0\n",
    "env_names = [\n",
    "    f\"ALE/{name}-v5\"\n",
    "    for name in available\n",
    "]\n",
    "envs = {}\n",
    "i = 0\n",
    "for name in env_names:\n",
    "    try:\n",
    "        envs[f'{name}_{i}'] = gym.make(name)\n",
    "    except:\n",
    "        try:\n",
    "            envs[f'{name}_{i}'] = gym.make(name.capitalize())\n",
    "        except:\n",
    "            pass"
   ]
  },
  {
   "cell_type": "code",
   "execution_count": 5,
   "metadata": {},
   "outputs": [
    {
     "data": {
      "text/plain": [
       "97"
      ]
     },
     "execution_count": 5,
     "metadata": {},
     "output_type": "execute_result"
    }
   ],
   "source": [
    "len(envs)"
   ]
  },
  {
   "cell_type": "code",
   "execution_count": 6,
   "metadata": {},
   "outputs": [],
   "source": [
    "%matplotlib inline\n",
    "\n",
    "import matplotlib.pyplot as plt"
   ]
  },
  {
   "cell_type": "code",
   "execution_count": 7,
   "metadata": {
    "scrolled": true
   },
   "outputs": [],
   "source": [
    "input_shape = (210, 160, 3)\n",
    "exclude_env = []\n",
    "observation = None\n",
    "for env_name, env in envs.items():\n",
    "    observation, _ = env.reset(seed=seed)\n",
    "    if observation.shape != input_shape:\n",
    "        exclude_env.append(env_name)\n",
    "        continue\n",
    "    \n",
    "for env_name in exclude_env:\n",
    "    del envs[env_name]"
   ]
  },
  {
   "cell_type": "code",
   "execution_count": 8,
   "metadata": {},
   "outputs": [
    {
     "data": {
      "text/plain": [
       "85"
      ]
     },
     "execution_count": 8,
     "metadata": {},
     "output_type": "execute_result"
    }
   ],
   "source": [
    "len(envs)"
   ]
  },
  {
   "cell_type": "code",
   "execution_count": 9,
   "metadata": {},
   "outputs": [
    {
     "data": {
      "text/plain": [
       "'Atari_85_games'"
      ]
     },
     "execution_count": 9,
     "metadata": {},
     "output_type": "execute_result"
    }
   ],
   "source": [
    "all_names = '_'.join(\n",
    "    [name.split('/')[-1].split('-')[0][:3] for name in envs.keys()]\n",
    ")\n",
    "all_names = f'Atari_{len(envs.keys())}_games'\n",
    "all_names"
   ]
  },
  {
   "cell_type": "code",
   "execution_count": 10,
   "metadata": {},
   "outputs": [
    {
     "data": {
      "text/plain": [
       "(35, 40, 3)"
      ]
     },
     "execution_count": 10,
     "metadata": {},
     "output_type": "execute_result"
    }
   ],
   "source": [
    "from skimage.transform import rescale, resize, downscale_local_mean\n",
    "\n",
    "def resize_frame(frame):\n",
    "    image_resized = downscale_local_mean(frame, (6, 4, 1))\n",
    "    return image_resized.astype(int)\n",
    "    \n",
    "image_downscaled = resize_frame(observation)\n",
    "input_shape = image_downscaled.shape\n",
    "input_shape"
   ]
  },
  {
   "cell_type": "code",
   "execution_count": 11,
   "metadata": {},
   "outputs": [
    {
     "data": {
      "text/plain": [
       "<matplotlib.image.AxesImage at 0x7fb0cc942d40>"
      ]
     },
     "execution_count": 11,
     "metadata": {},
     "output_type": "execute_result"
    },
    {
     "data": {
      "image/png": "[encoded data removed]",
      "text/plain": [
       "<Figure size 640x480 with 1 Axes>"
      ]
     },
     "metadata": {},
     "output_type": "display_data"
    }
   ],
   "source": [
    "plt.imshow(image_downscaled)"
   ]
  },
  {
   "cell_type": "code",
   "execution_count": 12,
   "metadata": {},
   "outputs": [],
   "source": [
    "from joblib import Parallel, delayed\n",
    "import numpy as np\n",
    "import gc\n",
    "import itertools\n",
    "\n",
    "encoder_alpha = 0.4\n",
    "def preprocess_images(images, mean, std):\n",
    "    return (images - mean) / std\n",
    "\n",
    "def build_dataset_env(env, N, alpha):\n",
    "    t_max = N\n",
    "    buf = []\n",
    "    total_frames = 0\n",
    "    while total_frames < N:\n",
    "        (observation, _) = env.reset()\n",
    "        observation = resize_frame(observation)\n",
    "        delta = np.zeros(observation.shape)\n",
    "        for t in range(t_max):\n",
    "            prev_observation = observation\n",
    "            action = env.action_space.sample()\n",
    "            observation, r, done, is_truncated, i = env.step(action)\n",
    "            # rescale observation to half its size by selecting every other pixel\n",
    "            observation = resize_frame(observation)\n",
    "            delta_now = observation / 255.0 - prev_observation / 255.0\n",
    "            delta = alpha * delta_now + (1 - alpha) * delta\n",
    "            if t > 1:\n",
    "                buf.append(delta)\n",
    "                total_frames += 1\n",
    "                if total_frames >= N:\n",
    "                    break\n",
    "            \n",
    "            if done:\n",
    "                break\n",
    "    return buf\n",
    "\n",
    "def build_dataset(envs, N, alpha, preprocess_mean=None, preprocess_std=None):\n",
    "    # Using joblib to parallelize\n",
    "    build_dataset_env(env, N // len(envs), alpha)\n",
    "    \n",
    "    results = Parallel(n_jobs=-1)(\n",
    "        delayed(build_dataset_env)(env, N // len(envs), alpha) \n",
    "        for env in envs.values()\n",
    "    )\n",
    "    \n",
    "    images = np.array(list(itertools.chain.from_iterable(results)))\n",
    "    del results\n",
    "    gc.collect()\n",
    "\n",
    "    if preprocess_mean is None:\n",
    "        preprocess_mean = np.mean(images)\n",
    "    if preprocess_std is None:\n",
    "        preprocess_std = np.std(images)\n",
    "        \n",
    "    images_normalized = preprocess_images(images, preprocess_mean, preprocess_std)\n",
    "    del images \n",
    "    gc.collect()\n",
    "    return images_normalized, preprocess_mean, preprocess_std"
   ]
  },
  {
   "cell_type": "code",
   "execution_count": 13,
   "metadata": {},
   "outputs": [
    {
     "name": "stdout",
     "output_type": "stream",
     "text": [
      "85000\n"
     ]
    }
   ],
   "source": [
    "print(N)"
   ]
  },
  {
   "cell_type": "code",
   "execution_count": 14,
   "metadata": {},
   "outputs": [
    {
     "name": "stderr",
     "output_type": "stream",
     "text": [
      "A.L.E: Arcade Learning Environment (version 0.8.1+53f58b7)\n",
      "[Powered by Stella]\n",
      "A.L.E: Arcade Learning Environment (version 0.8.1+53f58b7)\n",
      "[Powered by Stella]\n",
      "A.L.E: Arcade Learning Environment (version 0.8.1+53f58b7)\n",
      "[Powered by Stella]\n",
      "A.L.E: Arcade Learning Environment (version 0.8.1+53f58b7)\n",
      "[Powered by Stella]\n",
      "A.L.E: Arcade Learning Environment (version 0.8.1+53f58b7)\n",
      "[Powered by Stella]\n",
      "A.L.E: Arcade Learning Environment (version 0.8.1+53f58b7)\n",
      "[Powered by Stella]\n",
      "A.L.E: Arcade Learning Environment (version 0.8.1+53f58b7)\n",
      "[Powered by Stella]\n",
      "A.L.E: Arcade Learning Environment (version 0.8.1+53f58b7)\n",
      "[Powered by Stella]\n",
      "A.L.E: Arcade Learning Environment (version 0.8.1+53f58b7)\n",
      "[Powered by Stella]\n",
      "A.L.E: Arcade Learning Environment (version 0.8.1+53f58b7)\n",
      "[Powered by Stella]\n",
      "A.L.E: Arcade Learning Environment (version 0.8.1+53f58b7)\n",
      "[Powered by Stella]\n",
      "A.L.E: Arcade Learning Environment (version 0.8.1+53f58b7)\n",
      "[Powered by Stella]\n",
      "A.L.E: Arcade Learning Environment (version 0.8.1+53f58b7)\n",
      "[Powered by Stella]\n",
      "A.L.E: Arcade Learning Environment (version 0.8.1+53f58b7)\n",
      "[Powered by Stella]\n",
      "A.L.E: Arcade Learning Environment (version 0.8.1+53f58b7)\n",
      "[Powered by Stella]\n",
      "A.L.E: Arcade Learning Environment (version 0.8.1+53f58b7)\n",
      "[Powered by Stella]\n",
      "A.L.E: Arcade Learning Environment (version 0.8.1+53f58b7)\n",
      "[Powered by Stella]\n",
      "A.L.E: Arcade Learning Environment (version 0.8.1+53f58b7)\n",
      "[Powered by Stella]\n",
      "A.L.E: Arcade Learning Environment (version 0.8.1+53f58b7)\n",
      "[Powered by Stella]\n",
      "A.L.E: Arcade Learning Environment (version 0.8.1+53f58b7)\n",
      "[Powered by Stella]\n",
      "A.L.E: Arcade Learning Environment (version 0.8.1+53f58b7)\n",
      "[Powered by Stella]\n",
      "A.L.E: Arcade Learning Environment (version 0.8.1+53f58b7)\n",
      "[Powered by Stella]\n",
      "A.L.E: Arcade Learning Environment (version 0.8.1+53f58b7)\n",
      "[Powered by Stella]\n",
      "A.L.E: Arcade Learning Environment (version 0.8.1+53f58b7)\n",
      "[Powered by Stella]\n"
     ]
    }
   ],
   "source": [
    "X, preprocess_mean, preprocess_std = build_dataset(envs, N, encoder_alpha)"
   ]
  },
  {
   "cell_type": "code",
   "execution_count": 15,
   "metadata": {},
   "outputs": [],
   "source": [
    "import torch\n",
    "from torch import nn\n",
    "\n",
    "class Autoencoder(nn.Module):\n",
    "    conv_num_filters = 64\n",
    "    filter_size = 3\n",
    "    pool_size = 2\n",
    "    encode_size = 128\n",
    "    dense_mid_size = 512\n",
    "    bottleneck_size = (4, 5)\n",
    "    def __init__(self, debug=False):\n",
    "        super(Autoencoder, self).__init__()\n",
    "        self.debug = debug\n",
    "        self.encoder = nn.Sequential(\n",
    "            nn.Conv2d(X.shape[-1], self.conv_num_filters, self.filter_size, padding=1),\n",
    "            nn.ReLU(True),\n",
    "            nn.Conv2d(self.conv_num_filters, self.conv_num_filters, self.filter_size, padding=1),\n",
    "            nn.ReLU(True),\n",
    "            nn.MaxPool2d(self.pool_size, self.pool_size),\n",
    "            nn.Conv2d(self.conv_num_filters, self.conv_num_filters, self.filter_size, padding=1),\n",
    "            nn.ReLU(True),\n",
    "            nn.MaxPool2d(self.pool_size, self.pool_size),\n",
    "            nn.Conv2d(self.conv_num_filters, self.conv_num_filters, self.filter_size, padding=1),\n",
    "            nn.ReLU(True),\n",
    "            nn.MaxPool2d(self.pool_size, self.pool_size),\n",
    "            nn.Flatten(),\n",
    "            nn.Linear(self.conv_num_filters * self.bottleneck_size[0] * self.bottleneck_size[1], self.dense_mid_size),\n",
    "            nn.ReLU(True),\n",
    "            nn.Linear(self.dense_mid_size, self.encode_size),\n",
    "            nn.ReLU(True)\n",
    "        )\n",
    "        \n",
    "        self.decoder = nn.Sequential(\n",
    "            nn.Linear(self.encode_size, self.dense_mid_size),\n",
    "            nn.ReLU(True),\n",
    "            nn.Linear(self.dense_mid_size, self.conv_num_filters * self.bottleneck_size[0] * self.bottleneck_size[1]),\n",
    "            nn.ReLU(True),\n",
    "            nn.Unflatten(1, (self.conv_num_filters, self.bottleneck_size[0], self.bottleneck_size[1])),\n",
    "            nn.Upsample(scale_factor=self.pool_size, mode='nearest'),\n",
    "            nn.Conv2d(self.conv_num_filters, self.conv_num_filters, self.filter_size, padding=1),\n",
    "            nn.ReLU(True),\n",
    "            nn.Upsample(scale_factor=self.pool_size, mode='nearest'),\n",
    "            nn.Conv2d(self.conv_num_filters, self.conv_num_filters, self.filter_size, padding=(2, 1)),\n",
    "            nn.ConstantPad2d((0, 0, -1, 0), 0),\n",
    "            nn.ReLU(True),\n",
    "            nn.Upsample(scale_factor=self.pool_size, mode='nearest'),\n",
    "            nn.Conv2d(self.conv_num_filters, self.conv_num_filters, self.filter_size, padding=(2, 1)),\n",
    "            nn.ConstantPad2d((0, 0, -1, 0), 0),\n",
    "            nn.ReLU(True),\n",
    "            nn.Conv2d(self.conv_num_filters, X.shape[-1], self.filter_size, padding=1),\n",
    "        )\n",
    "\n",
    "    def forward(self, x):\n",
    "        x = x.movedim(-1, 1)\n",
    "        for layer in self.encoder.children():\n",
    "            x = layer(x)\n",
    "            if self.debug:\n",
    "                print(x.shape)\n",
    "        for layer in self.decoder.children():\n",
    "            x = layer(x)\n",
    "            if self.debug:\n",
    "                print(x.shape)\n",
    "        x = x.movedim(1, -1)\n",
    "        return x"
   ]
  },
  {
   "cell_type": "code",
   "execution_count": 16,
   "metadata": {},
   "outputs": [],
   "source": [
    "import torch.optim as optim\n",
    "from tqdm.auto import tqdm\n",
    "from torch.utils.data import TensorDataset, DataLoader"
   ]
  },
  {
   "cell_type": "code",
   "execution_count": 17,
   "metadata": {},
   "outputs": [],
   "source": [
    "def train_model(model, optimizer, X, device, epochs=50, batch_size=512, num_workers=0):\n",
    "    # Convert input and output data to tensors and move to device\n",
    "    X_tensor = torch.from_numpy(X).float().to(device)\n",
    "\n",
    "    # Create a TensorDataset from input and output tensors\n",
    "    dataset = TensorDataset(X_tensor)\n",
    "    \n",
    "    # Define loss function\n",
    "    criterion = nn.MSELoss()\n",
    "\n",
    "    # Create a DataLoader\n",
    "    dataloader = DataLoader(dataset, batch_size=batch_size, shuffle=True, num_workers=num_workers)\n",
    "\n",
    "    # Train the model\n",
    "    model.train()\n",
    "    loss_all = []\n",
    "    running_loss = []\n",
    "    for _ in range(epochs):\n",
    "        for _, data in enumerate(dataloader, 0):\n",
    "            # Get inputs and move to device\n",
    "            inputs = data[0].to(device)\n",
    "\n",
    "            # Zero the parameter gradients\n",
    "            optimizer.zero_grad()\n",
    "\n",
    "            # Forward pass\n",
    "            outputs = model(inputs)\n",
    "\n",
    "            # Compute loss\n",
    "            loss = criterion(outputs, inputs)\n",
    "\n",
    "            # Backward pass and optimization\n",
    "            loss.backward()\n",
    "            optimizer.step()\n",
    "\n",
    "            # Accumulate loss\n",
    "            running_loss.append(loss.item())\n",
    "            loss_all.append(loss.item())\n",
    "            if len(running_loss) >= 500:\n",
    "                print('average loss: %.3f' % np.mean(running_loss))\n",
    "                running_loss = []\n",
    "    if len(running_loss) > 0:\n",
    "        print('average loss: %.3f' % np.mean(running_loss))\n",
    "\n",
    "    return np.mean(loss_all)"
   ]
  },
  {
   "cell_type": "code",
   "execution_count": 18,
   "metadata": {},
   "outputs": [],
   "source": [
    "import random\n",
    "from IPython.display import clear_output\n",
    "\n",
    "def plot_random(X, count=5):\n",
    "    clear_output(wait=True)\n",
    "    images = []\n",
    "    model.eval()\n",
    "    for i in range(count):\n",
    "        # Select a random sample from X\n",
    "        sample_index = random.randint(0, len(X) - 1)\n",
    "        sample = X[sample_index].copy()\n",
    "\n",
    "        # Convert the sample to a tensor and move to device\n",
    "        sample_tensor = torch.from_numpy(sample).float().unsqueeze(0).to(device)\n",
    "        decoded = model(sample_tensor)\n",
    "        # Convert the decoded sample to a numpy array and move to CPU\n",
    "        decoded_array = decoded.detach().cpu().numpy()[0]\n",
    "\n",
    "        def calibrate_image(image):\n",
    "            value_min = image.min()\n",
    "            value_max = image.max()\n",
    "            print(value_min, value_max)\n",
    "            return (image - value_min) / (value_max - value_min)\n",
    "        \n",
    "        sample = calibrate_image(sample)\n",
    "        decoded_array = calibrate_image(decoded_array)\n",
    "        images.append(sample)\n",
    "        images.append(decoded_array)\n",
    "        \n",
    "    f, axarr = plt.subplots(2, len(images) // 2, figsize=(20, 8))\n",
    "    for i, image in enumerate(images):\n",
    "        axarr[i % 2, i // 2].imshow(image)\n",
    "        axarr[i % 2, i // 2].axis('off')\n",
    "    plt.tight_layout()\n",
    "    plt.show()\n"
   ]
  },
  {
   "cell_type": "code",
   "execution_count": 19,
   "metadata": {},
   "outputs": [],
   "source": [
    "torch.manual_seed(seed)\n",
    "np.random.seed(seed)\n",
    "\n",
    "device = torch.device(\"cuda\" if torch.cuda.is_available() else \"cpu\")  # use GPU if available\n",
    "model = Autoencoder(debug=False).to(device)"
   ]
  },
  {
   "cell_type": "code",
   "execution_count": 20,
   "metadata": {},
   "outputs": [
    {
     "name": "stdout",
     "output_type": "stream",
     "text": [
      "total_steps: 3320312\n"
     ]
    }
   ],
   "source": [
    "import torch\n",
    "import numpy as np\n",
    "\n",
    "need_retrain_model = True\n",
    "batch_size = 128\n",
    "sampling_iterations = 1000\n",
    "epoch_count = 5\n",
    "total_steps = N * sampling_iterations * epoch_count // batch_size\n",
    "learning_rate = 1e-4\n",
    "print(f\"total_steps: {total_steps}\")\n",
    "\n",
    "# Define optimizer\n",
    "optimizer = optim.RMSprop(model.parameters(), lr=learning_rate)\n",
    "learning_rate_schedule = optim.lr_scheduler.ExponentialLR(optimizer, gamma=0.99)\n",
    "i = 0"
   ]
  },
  {
   "cell_type": "code",
   "execution_count": 21,
   "metadata": {},
   "outputs": [
    {
     "name": "stdout",
     "output_type": "stream",
     "text": [
      "Atari_85_games_autoencoder_0.4.state_dict\n"
     ]
    }
   ],
   "source": [
    "weights_name = f\"{all_names}_autoencoder_{encoder_alpha}.state_dict\"\n",
    "# model.load_state_dict(torch.load(weights_name))\n",
    "print(weights_name)"
   ]
  },
  {
   "cell_type": "code",
   "execution_count": 22,
   "metadata": {},
   "outputs": [],
   "source": [
    "loss_log = []"
   ]
  },
  {
   "cell_type": "code",
   "execution_count": 23,
   "metadata": {},
   "outputs": [],
   "source": [
    "import seaborn\n",
    "seaborn.set()"
   ]
  },
  {
   "cell_type": "code",
   "execution_count": 24,
   "metadata": {},
   "outputs": [
    {
     "data": {
      "text/plain": [
       "['preprocess_constants.joblib']"
      ]
     },
     "execution_count": 24,
     "metadata": {},
     "output_type": "execute_result"
    }
   ],
   "source": [
    "import joblib\n",
    "\n",
    "joblib.dump({'preprocess_mean': preprocess_mean, 'preprocess_std': preprocess_std}, 'preprocess_constants.joblib')"
   ]
  },
  {
   "cell_type": "code",
   "execution_count": null,
   "metadata": {},
   "outputs": [
    {
     "name": "stdout",
     "output_type": "stream",
     "text": [
      "-2.570891458794321 1.094244315764696\n",
      "-1.6933826 0.3376424\n",
      "-7.684659955699947 11.853165728996983\n",
      "-4.9462366 12.071783\n",
      "-0.9078215838581954 1.4549868437199134\n",
      "-0.21384765 0.47059998\n",
      "-3.269489884994287 3.1029133779634375\n",
      "-1.726174 1.3022162\n",
      "-10.12339714559929 10.119243708040592\n",
      "-7.0674505 8.431364\n"
     ]
    },
    {
     "data": {
      "image/png": "[encoded data removed]",
      "text/plain": [
       "<Figure size 640x480 with 1 Axes>"
      ]
     },
     "metadata": {},
     "output_type": "display_data"
    },
    {
     "data": {
      "image/png": "[encoded data removed]",
      "text/plain": [
       "<Figure size 2000x800 with 10 Axes>"
      ]
     },
     "metadata": {},
     "output_type": "display_data"
    },
    {
     "name": "stdout",
     "output_type": "stream",
     "text": [
      "iteration: 110\n",
      "average loss: 0.115\n",
      "average loss: 0.111\n",
      "average loss: 0.110\n",
      "average loss: 0.110\n",
      "average loss: 0.107\n",
      "average loss: 0.107\n",
      "average loss: 0.108\n",
      "average loss: 0.108\n",
      "average loss: 0.106\n",
      "average loss: 0.102\n",
      "average loss: 0.103\n",
      "average loss: 0.101\n",
      "average loss: 0.103\n",
      "average loss: 0.100\n",
      "average loss: 0.106\n",
      "average loss: 0.104\n",
      "average loss: 0.102\n",
      "average loss: 0.102\n",
      "average loss: 0.100\n"
     ]
    }
   ],
   "source": [
    "if need_retrain_model:\n",
    "    torch.save(model.state_dict(), weights_name)\n",
    "    for _ in range(sampling_iterations):\n",
    "        X, _, _ = build_dataset(envs, N, encoder_alpha, preprocess_mean=preprocess_mean, preprocess_std=preprocess_std)\n",
    "        if i % 10 == 0 or i < 100:\n",
    "            plot_random(X)\n",
    "            plt.plot(loss_log[-100:])\n",
    "            print(f\"iteration: {i}\")\n",
    "        loss_log.append(\n",
    "            train_model(model, optimizer, X, device, epochs=epoch_count, batch_size=batch_size)\n",
    "        )\n",
    "        torch.save(model.state_dict(), weights_name)\n",
    "        learning_rate_schedule.step()\n",
    "        del X\n",
    "        gc.collect()\n",
    "        i += 1\n",
    "else:\n",
    "    model.load_state_dict(torch.load(weights_name))"
   ]
  },
  {
   "cell_type": "code",
   "execution_count": 30,
   "metadata": {},
   "outputs": [],
   "source": [
    "torch.save(model.state_dict(), weights_name)"
   ]
  },
  {
   "cell_type": "code",
   "execution_count": 28,
   "metadata": {},
   "outputs": [
    {
     "data": {
      "text/plain": [
       "[<matplotlib.lines.Line2D at 0x7f633c321030>]"
      ]
     },
     "execution_count": 28,
     "metadata": {},
     "output_type": "execute_result"
    },
    {
     "data": {
      "image/png": "[encoded data removed]",
      "text/plain": [
       "<Figure size 640x480 with 1 Axes>"
      ]
     },
     "metadata": {},
     "output_type": "display_data"
    }
   ],
   "source": [
    "def moving_average(x, w):\n",
    "    return np.convolve(x, np.ones(w), 'valid') / w\n",
    "\n",
    "plt.plot(moving_average(loss_log[-200:], 50))\n"
   ]
  },
  {
   "cell_type": "code",
   "execution_count": 29,
   "metadata": {},
   "outputs": [
    {
     "data": {
      "text/plain": [
       "['preprocess_constants.joblib']"
      ]
     },
     "execution_count": 29,
     "metadata": {},
     "output_type": "execute_result"
    }
   ],
   "source": [
    "import joblib\n",
    "\n",
    "joblib.dump({'preprocess_mean': preprocess_mean, 'preprocess_std': preprocess_std}, 'preprocess_constants.joblib')"
   ]
  },
  {
   "cell_type": "code",
   "execution_count": null,
   "metadata": {},
   "outputs": [],
   "source": []
  }
 ],
 "metadata": {
  "kernelspec": {
   "display_name": "py310",
   "language": "python",
   "name": "py310"
  },
  "language_info": {
   "codemirror_mode": {
    "name": "ipython",
    "version": 3
   },
   "file_extension": ".py",
   "mimetype": "text/x-python",
   "name": "python",
   "nbconvert_exporter": "python",
   "pygments_lexer": "ipython3",
   "version": "3.10.9"
  }
 },
 "nbformat": 4,
 "nbformat_minor": 4
}
