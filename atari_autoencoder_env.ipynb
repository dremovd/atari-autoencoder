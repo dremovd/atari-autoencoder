{
 "cells": [
  {
   "cell_type": "code",
   "execution_count": 1,
   "metadata": {},
   "outputs": [],
   "source": [
    "import sys"
   ]
  },
  {
   "cell_type": "code",
   "execution_count": 2,
   "metadata": {},
   "outputs": [
    {
     "name": "stdout",
     "output_type": "stream",
     "text": [
      "Requirement already satisfied: seaborn in /home/morph/anaconda3/envs/py310/lib/python3.10/site-packages (0.12.2)\n",
      "Requirement already satisfied: joblib in /home/morph/anaconda3/envs/py310/lib/python3.10/site-packages (1.2.0)\n",
      "Requirement already satisfied: gymnasium[atari] in /home/morph/anaconda3/envs/py310/lib/python3.10/site-packages (0.28.1)\n",
      "Requirement already satisfied: matplotlib in /home/morph/anaconda3/envs/py310/lib/python3.10/site-packages (3.7.1)\n",
      "Requirement already satisfied: scikit-image in /home/morph/anaconda3/envs/py310/lib/python3.10/site-packages (0.20.0)\n",
      "Requirement already satisfied: pandas>=0.25 in /home/morph/anaconda3/envs/py310/lib/python3.10/site-packages (from seaborn) (2.0.1)\n",
      "Requirement already satisfied: numpy!=1.24.0,>=1.17 in /home/morph/anaconda3/envs/py310/lib/python3.10/site-packages (from seaborn) (1.24.3)\n",
      "Requirement already satisfied: typing-extensions>=4.3.0 in /home/morph/anaconda3/envs/py310/lib/python3.10/site-packages (from gymnasium[atari]) (4.5.0)\n",
      "Requirement already satisfied: cloudpickle>=1.2.0 in /home/morph/anaconda3/envs/py310/lib/python3.10/site-packages (from gymnasium[atari]) (2.2.1)\n",
      "Requirement already satisfied: farama-notifications>=0.0.1 in /home/morph/anaconda3/envs/py310/lib/python3.10/site-packages (from gymnasium[atari]) (0.0.4)\n",
      "Requirement already satisfied: jax-jumpy>=1.0.0 in /home/morph/anaconda3/envs/py310/lib/python3.10/site-packages (from gymnasium[atari]) (1.0.0)\n",
      "Requirement already satisfied: shimmy[atari]<1.0,>=0.1.0 in /home/morph/anaconda3/envs/py310/lib/python3.10/site-packages (from gymnasium[atari]) (0.2.1)\n",
      "Requirement already satisfied: autorom[accept-rom-license]~=0.4.2 in /home/morph/anaconda3/envs/py310/lib/python3.10/site-packages (from gymnasium[atari]) (0.4.2)\n",
      "Requirement already satisfied: pillow>=6.2.0 in /home/morph/anaconda3/envs/py310/lib/python3.10/site-packages (from matplotlib) (9.5.0)\n",
      "Requirement already satisfied: pyparsing>=2.3.1 in /home/morph/anaconda3/envs/py310/lib/python3.10/site-packages (from matplotlib) (3.0.9)\n",
      "Requirement already satisfied: python-dateutil>=2.7 in /home/morph/anaconda3/envs/py310/lib/python3.10/site-packages (from matplotlib) (2.8.2)\n",
      "Requirement already satisfied: kiwisolver>=1.0.1 in /home/morph/anaconda3/envs/py310/lib/python3.10/site-packages (from matplotlib) (1.4.4)\n",
      "Requirement already satisfied: contourpy>=1.0.1 in /home/morph/anaconda3/envs/py310/lib/python3.10/site-packages (from matplotlib) (1.0.7)\n",
      "Requirement already satisfied: packaging>=20.0 in /home/morph/anaconda3/envs/py310/lib/python3.10/site-packages (from matplotlib) (23.0)\n",
      "Requirement already satisfied: cycler>=0.10 in /home/morph/anaconda3/envs/py310/lib/python3.10/site-packages (from matplotlib) (0.11.0)\n",
      "Requirement already satisfied: fonttools>=4.22.0 in /home/morph/anaconda3/envs/py310/lib/python3.10/site-packages (from matplotlib) (4.39.4)\n",
      "Requirement already satisfied: imageio>=2.4.1 in /home/morph/anaconda3/envs/py310/lib/python3.10/site-packages (from scikit-image) (2.28.1)\n",
      "Requirement already satisfied: networkx>=2.8 in /home/morph/anaconda3/envs/py310/lib/python3.10/site-packages (from scikit-image) (3.1)\n",
      "Requirement already satisfied: tifffile>=2019.7.26 in /home/morph/anaconda3/envs/py310/lib/python3.10/site-packages (from scikit-image) (2023.4.12)\n",
      "Requirement already satisfied: lazy_loader>=0.1 in /home/morph/anaconda3/envs/py310/lib/python3.10/site-packages (from scikit-image) (0.2)\n",
      "Requirement already satisfied: scipy>=1.8 in /home/morph/anaconda3/envs/py310/lib/python3.10/site-packages (from scikit-image) (1.10.1)\n",
      "Requirement already satisfied: PyWavelets>=1.1.1 in /home/morph/anaconda3/envs/py310/lib/python3.10/site-packages (from scikit-image) (1.4.1)\n",
      "Requirement already satisfied: click in /home/morph/anaconda3/envs/py310/lib/python3.10/site-packages (from autorom[accept-rom-license]~=0.4.2->gymnasium[atari]) (8.1.3)\n",
      "Requirement already satisfied: requests in /home/morph/anaconda3/envs/py310/lib/python3.10/site-packages (from autorom[accept-rom-license]~=0.4.2->gymnasium[atari]) (2.30.0)\n",
      "Requirement already satisfied: tqdm in /home/morph/anaconda3/envs/py310/lib/python3.10/site-packages (from autorom[accept-rom-license]~=0.4.2->gymnasium[atari]) (4.65.0)\n",
      "Requirement already satisfied: AutoROM.accept-rom-license in /home/morph/anaconda3/envs/py310/lib/python3.10/site-packages (from autorom[accept-rom-license]~=0.4.2->gymnasium[atari]) (0.6.1)\n",
      "Requirement already satisfied: tzdata>=2022.1 in /home/morph/anaconda3/envs/py310/lib/python3.10/site-packages (from pandas>=0.25->seaborn) (2023.3)\n",
      "Requirement already satisfied: pytz>=2020.1 in /home/morph/anaconda3/envs/py310/lib/python3.10/site-packages (from pandas>=0.25->seaborn) (2023.3)\n",
      "Requirement already satisfied: six>=1.5 in /home/morph/anaconda3/envs/py310/lib/python3.10/site-packages (from python-dateutil>=2.7->matplotlib) (1.16.0)\n",
      "Requirement already satisfied: ale-py~=0.8.1 in /home/morph/anaconda3/envs/py310/lib/python3.10/site-packages (from shimmy[atari]<1.0,>=0.1.0->gymnasium[atari]) (0.8.1)\n",
      "Requirement already satisfied: importlib-resources in /home/morph/anaconda3/envs/py310/lib/python3.10/site-packages (from ale-py~=0.8.1->shimmy[atari]<1.0,>=0.1.0->gymnasium[atari]) (5.12.0)\n",
      "Requirement already satisfied: urllib3<3,>=1.21.1 in /home/morph/anaconda3/envs/py310/lib/python3.10/site-packages (from requests->autorom[accept-rom-license]~=0.4.2->gymnasium[atari]) (1.26.15)\n",
      "Requirement already satisfied: idna<4,>=2.5 in /home/morph/anaconda3/envs/py310/lib/python3.10/site-packages (from requests->autorom[accept-rom-license]~=0.4.2->gymnasium[atari]) (3.4)\n",
      "Requirement already satisfied: charset-normalizer<4,>=2 in /home/morph/anaconda3/envs/py310/lib/python3.10/site-packages (from requests->autorom[accept-rom-license]~=0.4.2->gymnasium[atari]) (3.1.0)\n",
      "Requirement already satisfied: certifi>=2017.4.17 in /home/morph/anaconda3/envs/py310/lib/python3.10/site-packages (from requests->autorom[accept-rom-license]~=0.4.2->gymnasium[atari]) (2023.5.7)\n"
     ]
    }
   ],
   "source": [
    "!{sys.executable} -m pip install seaborn joblib \"gymnasium[atari]\" \"gymnasium[accept-rom-license]\" matplotlib scikit-image"
   ]
  },
  {
   "cell_type": "code",
   "execution_count": 3,
   "metadata": {},
   "outputs": [],
   "source": [
    "available = [\n",
    "    'Adventure',\n",
    "    'AirRaid',\n",
    "    'Alien',\n",
    "    'Amidar',\n",
    "    'Assault',\n",
    "    'Asterix',\n",
    "    'Asteroids',\n",
    "    'Atlantis',\n",
    "    'Atlantis2',\n",
    "    'Backgammon',\n",
    "    'BankHeist',\n",
    "    'BasicMath',\n",
    "    'BattleZone',\n",
    "    'BeamRider',\n",
    "    'Berzerk',\n",
    "    'Blackjack',\n",
    "    'Bowling',\n",
    "    'Boxing',\n",
    "    'Breakout',\n",
    "    'CMakeLists',\n",
    "    'Carnival',\n",
    "    'Casino',\n",
    "    'Centipede',\n",
    "    'ChopperCommand',\n",
    "    'CrazyClimber',\n",
    "    'Crossbow',\n",
    "    'DarkChambers',\n",
    "    'Defender',\n",
    "    'DemonAttack',\n",
    "    'DonkeyKong',\n",
    "    'DoubleDunk',\n",
    "    'Earthworld',\n",
    "    'ElevatorAction',\n",
    "    'Enduro',\n",
    "    'Entombed',\n",
    "    'Et',\n",
    "    'FishingDerby',\n",
    "    'FlagCapture',\n",
    "    'Freeway',\n",
    "    'Frogger',\n",
    "    'Frostbite',\n",
    "    'Galaxian',\n",
    "    'Gopher',\n",
    "    'Gravitar',\n",
    "    'Hangman',\n",
    "    'HauntedHouse',\n",
    "    'Hero',\n",
    "    'HumanCannonball',\n",
    "    'IceHockey',\n",
    "    'JamesBond',\n",
    "    'JourneyEscape',\n",
    "    'Kaboom',\n",
    "    'Kangaroo',\n",
    "    'KeystoneKapers',\n",
    "    'Kingkong',\n",
    "    'Klax',\n",
    "    'Koolaid',\n",
    "    'Krull',\n",
    "    'KungFuMaster',\n",
    "    'LaserGates',\n",
    "    'LostLuggage',\n",
    "    'MarioBros',\n",
    "    'MiniatureGolf',\n",
    "    'MontezumaRevenge',\n",
    "    'MrDo',\n",
    "    'MsPacman',\n",
    "    'NameThisGame',\n",
    "    'Othello',\n",
    "    'Pacman',\n",
    "    'Phoenix',\n",
    "    'Pitfall',\n",
    "    'Pitfall2',\n",
    "    'Pong',\n",
    "    'Pooyan',\n",
    "    'PrivateEye',\n",
    "    'QBert',\n",
    "    'RiverRaid',\n",
    "    'RoadRunner',\n",
    "    'RoboTank',\n",
    "    'Seaquest',\n",
    "    'SirLancelot',\n",
    "    'Skiing',\n",
    "    'Solaris',\n",
    "    'SpaceInvaders',\n",
    "    'SpaceWar',\n",
    "    'StarGunner',\n",
    "    'Superman',\n",
    "    'Surround',\n",
    "    'Tennis',\n",
    "    'Tetris',\n",
    "    'TicTacToe3d',\n",
    "    'TimePilot',\n",
    "    'Trondead',\n",
    "    'Turmoil',\n",
    "    'Tutankham',\n",
    "    'UpNDown',\n",
    "    'Venture',\n",
    "    'VideoCheckers',\n",
    "    'VideoChess',\n",
    "    'VideoCube',\n",
    "    'VideoPinball',\n",
    "    'WizardOfWor',\n",
    "    'WordZapper',\n",
    "    'YarsRevenge',\n",
    "    'Zaxxon'\n",
    " ]"
   ]
  },
  {
   "cell_type": "code",
   "execution_count": 4,
   "metadata": {},
   "outputs": [
    {
     "name": "stderr",
     "output_type": "stream",
     "text": [
      "A.L.E: Arcade Learning Environment (version 0.8.1+53f58b7)\n",
      "[Powered by Stella]\n"
     ]
    }
   ],
   "source": [
    "import gymnasium as gym\n",
    "\n",
    "seed = 0\n",
    "env_names = [\n",
    "    f\"ALE/{name}-v5\"\n",
    "    for name in available\n",
    "]\n",
    "envs = {}\n",
    "i = 0\n",
    "for name in env_names:\n",
    "    try:\n",
    "        envs[f'{name}_{i}'] = gym.make(name)\n",
    "    except:\n",
    "        try:\n",
    "            envs[f'{name}_{i}'] = gym.make(name.capitalize())\n",
    "        except:\n",
    "            pass"
   ]
  },
  {
   "cell_type": "code",
   "execution_count": 5,
   "metadata": {},
   "outputs": [
    {
     "data": {
      "text/plain": [
       "97"
      ]
     },
     "execution_count": 5,
     "metadata": {},
     "output_type": "execute_result"
    }
   ],
   "source": [
    "len(envs)"
   ]
  },
  {
   "cell_type": "code",
   "execution_count": 6,
   "metadata": {},
   "outputs": [],
   "source": [
    "%matplotlib inline\n",
    "\n",
    "import matplotlib.pyplot as plt"
   ]
  },
  {
   "cell_type": "code",
   "execution_count": 7,
   "metadata": {
    "scrolled": true
   },
   "outputs": [],
   "source": [
    "input_shape = (210, 160, 3)\n",
    "exclude_env = []\n",
    "observation = None\n",
    "for env_name, env in envs.items():\n",
    "    observation, _ = env.reset(seed=seed)\n",
    "    if observation.shape != input_shape:\n",
    "        exclude_env.append(env_name)\n",
    "        continue\n",
    "    \n",
    "for env_name in exclude_env:\n",
    "    del envs[env_name]"
   ]
  },
  {
   "cell_type": "code",
   "execution_count": 8,
   "metadata": {},
   "outputs": [
    {
     "data": {
      "text/plain": [
       "85"
      ]
     },
     "execution_count": 8,
     "metadata": {},
     "output_type": "execute_result"
    }
   ],
   "source": [
    "len(envs)"
   ]
  },
  {
   "cell_type": "code",
   "execution_count": 9,
   "metadata": {},
   "outputs": [
    {
     "data": {
      "text/plain": [
       "'Atari_85_games'"
      ]
     },
     "execution_count": 9,
     "metadata": {},
     "output_type": "execute_result"
    }
   ],
   "source": [
    "all_names = '_'.join(\n",
    "    [name.split('/')[-1].split('-')[0][:3] for name in envs.keys()]\n",
    ")\n",
    "all_names = f'Atari_{len(envs.keys())}_games'\n",
    "all_names"
   ]
  },
  {
   "cell_type": "code",
   "execution_count": 46,
   "metadata": {},
   "outputs": [],
   "source": [
    "encoder_alpha = 0.4"
   ]
  },
  {
   "cell_type": "code",
   "execution_count": 47,
   "metadata": {},
   "outputs": [
    {
     "data": {
      "text/plain": [
       "'Atari_85_games_autoencoder_0.4.state_dict'"
      ]
     },
     "execution_count": 47,
     "metadata": {},
     "output_type": "execute_result"
    }
   ],
   "source": [
    "weights_name = f\"{all_names}_autoencoder_{encoder_alpha}.state_dict\"\n",
    "weights_name"
   ]
  },
  {
   "cell_type": "code",
   "execution_count": 10,
   "metadata": {},
   "outputs": [
    {
     "data": {
      "text/plain": [
       "(35, 40, 3)"
      ]
     },
     "execution_count": 10,
     "metadata": {},
     "output_type": "execute_result"
    }
   ],
   "source": [
    "from skimage.transform import rescale, resize, downscale_local_mean\n",
    "\n",
    "def resize_frame(frame):\n",
    "    image_resized = downscale_local_mean(frame, (6, 4, 1))\n",
    "    return image_resized.astype(int)\n",
    "    \n",
    "image_downscaled = resize_frame(observation)\n",
    "input_shape = image_downscaled.shape\n",
    "input_shape"
   ]
  },
  {
   "cell_type": "code",
   "execution_count": 11,
   "metadata": {},
   "outputs": [
    {
     "data": {
      "text/plain": [
       "<matplotlib.image.AxesImage at 0x7fb0cc942d40>"
      ]
     },
     "execution_count": 11,
     "metadata": {},
     "output_type": "execute_result"
    },
    {
     "data": {
      "image/png": "[encoded data removed]",
      "text/plain": [
       "<Figure size 640x480 with 1 Axes>"
      ]
     },
     "metadata": {},
     "output_type": "display_data"
    }
   ],
   "source": [
    "plt.imshow(image_downscaled)"
   ]
  },
  {
   "cell_type": "code",
   "execution_count": 16,
   "metadata": {},
   "outputs": [],
   "source": [
    "import os\n",
    "\n",
    "os.chdir('atari-autoencoder')"
   ]
  },
  {
   "cell_type": "code",
   "execution_count": 17,
   "metadata": {},
   "outputs": [
    {
     "data": {
      "text/plain": [
       "{'preprocess_mean': 2.9275974254729795e-05,\n",
       " 'preprocess_std': 0.017280908223757496}"
      ]
     },
     "execution_count": 17,
     "metadata": {},
     "output_type": "execute_result"
    }
   ],
   "source": [
    "import joblib\n",
    "\n",
    "preprocess_constants = joblib.load('preprocess_constants.joblib')\n",
    "preprocess_constants"
   ]
  },
  {
   "cell_type": "code",
   "execution_count": 39,
   "metadata": {},
   "outputs": [],
   "source": []
  },
  {
   "cell_type": "code",
   "execution_count": 52,
   "metadata": {},
   "outputs": [
    {
     "name": "stdout",
     "output_type": "stream",
     "text": [
      "torch.Size([1, 35, 40, 3])\n",
      "torch.Size([1, 35, 40, 3])\n",
      "torch.Size([1, 3, 35, 40])\n"
     ]
    },
    {
     "data": {
      "text/plain": [
       "(array([1.0365137 , 1.2566333 , 0.8866816 , 0.7404944 , 0.9707567 ,\n",
       "        0.89127326, 0.7051216 , 1.0133883 , 0.75960904, 0.933888  ,\n",
       "        0.9059419 , 0.8934258 , 0.72368383, 1.2758784 , 1.7360692 ,\n",
       "        1.1025834 , 0.91349316, 0.8501614 , 0.82555175, 0.9984979 ,\n",
       "        0.74912995, 1.2360104 , 1.04519   , 0.9471506 , 0.73810583,\n",
       "        0.8546157 , 0.9577163 , 0.6411437 , 0.72363186, 0.54056287,\n",
       "        1.0652182 , 1.3563408 , 1.1173449 , 1.092219  , 1.2374878 ,\n",
       "        1.0008802 , 1.0023956 , 0.9504629 , 0.        , 1.0086684 ,\n",
       "        0.88721967, 0.934907  , 0.9158432 , 0.5115538 , 0.86898863,\n",
       "        1.0873687 , 0.811849  , 0.96731365, 0.9512297 , 0.9880392 ,\n",
       "        1.0719129 , 0.81830984, 1.0787143 , 0.        , 0.76009774,\n",
       "        1.1120634 , 0.98145   , 1.2574557 , 0.72057277, 0.8855164 ,\n",
       "        1.1390021 , 0.37009037, 1.2607502 , 0.9926627 , 0.84077454,\n",
       "        1.0299811 , 1.0815989 , 1.7388374 , 1.2687855 , 1.2439147 ,\n",
       "        1.1163883 , 1.1850353 , 0.7165136 , 1.1464684 , 0.84382015,\n",
       "        0.89783293, 0.689393  , 1.2235012 , 0.6920925 , 1.055081  ,\n",
       "        0.6484738 , 0.8467604 , 0.        , 1.0712743 , 0.6455693 ,\n",
       "        0.92612034, 0.8502823 , 1.2756768 , 1.2064573 , 0.8647992 ,\n",
       "        0.790592  , 0.77643156, 1.1535132 , 0.        , 0.97312945,\n",
       "        1.0870764 , 0.81916493, 0.92346835, 1.3151411 , 1.4122045 ,\n",
       "        0.50510025, 1.1200287 , 1.0673773 , 0.        , 1.1004016 ,\n",
       "        0.6194936 , 0.838289  , 1.3114266 , 0.93276703, 0.7087478 ,\n",
       "        0.07269767, 0.9464132 , 0.8750908 , 1.1720499 , 1.1417017 ,\n",
       "        0.8271558 , 0.9366554 , 1.050877  , 1.2020695 , 1.2322373 ,\n",
       "        1.138722  , 1.2798469 , 0.7692014 , 0.42902064, 1.6234698 ,\n",
       "        1.124133  , 0.8310289 , 0.967323  ], dtype=float32),\n",
       " {'lives': 0, 'episode_frame_number': 0, 'frame_number': 0})"
      ]
     },
     "execution_count": 52,
     "metadata": {},
     "output_type": "execute_result"
    }
   ],
   "source": [
    "import gymnasium as gym\n",
    "import numpy as np\n",
    "import torch\n",
    "from torch import nn\n",
    "from skimage.transform import downscale_local_mean\n",
    "\n",
    "\n",
    "class AtariEncoder(nn.Module):\n",
    "    conv_num_filters = 64\n",
    "    filter_size = 3\n",
    "    pool_size = 2\n",
    "    encode_size = 128\n",
    "    dense_mid_size = 512\n",
    "    bottleneck_size = (4, 5)\n",
    "    def __init__(self, debug=False):\n",
    "        super(AtariEncoder, self).__init__()\n",
    "        self.debug = debug\n",
    "        self.encoder = nn.Sequential(\n",
    "            nn.Conv2d(3, self.conv_num_filters, self.filter_size, padding=1),\n",
    "            nn.ReLU(True),\n",
    "            nn.Conv2d(self.conv_num_filters, self.conv_num_filters, self.filter_size, padding=1),\n",
    "            nn.ReLU(True),\n",
    "            nn.MaxPool2d(self.pool_size, self.pool_size),\n",
    "            nn.Conv2d(self.conv_num_filters, self.conv_num_filters, self.filter_size, padding=1),\n",
    "            nn.ReLU(True),\n",
    "            nn.MaxPool2d(self.pool_size, self.pool_size),\n",
    "            nn.Conv2d(self.conv_num_filters, self.conv_num_filters, self.filter_size, padding=1),\n",
    "            nn.ReLU(True),\n",
    "            nn.MaxPool2d(self.pool_size, self.pool_size),\n",
    "            nn.Flatten(),\n",
    "            nn.Linear(self.conv_num_filters * self.bottleneck_size[0] * self.bottleneck_size[1], self.dense_mid_size),\n",
    "            nn.ReLU(True),\n",
    "            nn.Linear(self.dense_mid_size, self.encode_size),\n",
    "            nn.ReLU(True)\n",
    "        )\n",
    "\n",
    "    def forward(self, x):\n",
    "        print(x.shape)\n",
    "        x = x.movedim(-1, 1)\n",
    "        print(x.shape)\n",
    "        for layer in self.encoder.children():\n",
    "            x = layer(x)\n",
    "            if self.debug:\n",
    "                print(x.shape)\n",
    "        return x\n",
    "\n",
    "class AtariEncodingEnv(gym.ObservationWrapper):\n",
    "    def __init__(self, env, encoder, resize_shape, alpha, preprocess_mean, preprocess_std, device='cpu'):\n",
    "        super().__init__(env)\n",
    "        self.resize_shape = resize_shape\n",
    "        self.alpha = alpha\n",
    "        self.encoder = encoder\n",
    "        self.preprocess_mean = preprocess_mean\n",
    "        self.preprocess_std = preprocess_std\n",
    "        self.delta = None\n",
    "        self.device = device\n",
    "\n",
    "    def observation(self, observation):\n",
    "        observation = self.resize_frame(observation)\n",
    "        if self.delta is None:\n",
    "            self.delta = np.zeros(observation.shape)\n",
    "        else:\n",
    "            delta_now = observation / 255.0 - self.delta / 255.0\n",
    "            self.delta = self.alpha * delta_now + (1 - self.alpha) * self.delta\n",
    "\n",
    "        if self.preprocess_mean is None:\n",
    "            self.preprocess_mean = np.mean(self.delta)\n",
    "        if self.preprocess_std is None:\n",
    "            self.preprocess_std = np.std(self.delta)\n",
    "\n",
    "        self.delta = self.preprocess_images(self.delta, self.preprocess_mean, self.preprocess_std)\n",
    "        \n",
    "        # Encoding the delta\n",
    "        delta_tensor = torch.tensor(self.delta, dtype=torch.float32).unsqueeze(0).to(self.device)\n",
    "        print(delta_tensor.shape)\n",
    "        self.delta = self.encoder(delta_tensor).squeeze(0).detach().numpy()\n",
    "\n",
    "        return self.delta\n",
    "\n",
    "    def reset(self, **kwargs):\n",
    "        self.delta = None\n",
    "        observation, info = self.env.reset(**kwargs)\n",
    "        return self.observation(observation), info\n",
    "\n",
    "    def resize_frame(self, frame):\n",
    "        # resizing image with downscale_local_mean\n",
    "        return downscale_local_mean(frame, self.resize_shape).astype(int)\n",
    "\n",
    "    def preprocess_images(self, images, mean, std):\n",
    "        return (images - mean) / std\n",
    "\n",
    "    def load_encoder_weights(self, weights_path):\n",
    "        state_dict = torch.load(weights_path, map_location=torch.device('cpu'))\n",
    "        state_dict = {\n",
    "            k: v for k, v in state_dict.items() if k in self.encoder.state_dict()\n",
    "        }\n",
    "        self.encoder.load_state_dict(state_dict)\n",
    "\n",
    "env = AtariEncodingEnv(envs['ALE/Pong-v5_0'], AtariEncoder(debug=False), (6, 4, 1), alpha=encoder_alpha, **preprocess_constants)\n",
    "env.load_encoder_weights(weights_name)\n",
    "env.reset()"
   ]
  },
  {
   "cell_type": "code",
   "execution_count": null,
   "metadata": {},
   "outputs": [],
   "source": []
  }
 ],
 "metadata": {
  "kernelspec": {
   "display_name": "py310",
   "language": "python",
   "name": "py310"
  },
  "language_info": {
   "codemirror_mode": {
    "name": "ipython",
    "version": 3
   },
   "file_extension": ".py",
   "mimetype": "text/x-python",
   "name": "python",
   "nbconvert_exporter": "python",
   "pygments_lexer": "ipython3",
   "version": "3.10.9"
  }
 },
 "nbformat": 4,
 "nbformat_minor": 4
}
